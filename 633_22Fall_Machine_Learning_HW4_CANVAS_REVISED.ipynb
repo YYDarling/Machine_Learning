{
  "nbformat": 4,
  "nbformat_minor": 0,
  "metadata": {
    "colab": {
      "provenance": [],
      "toc_visible": true
    },
    "kernelspec": {
      "display_name": "Python 3",
      "name": "python3"
    }
  },
  "cells": [
    {
      "cell_type": "markdown",
      "metadata": {
        "id": "5D48bskJS25M"
      },
      "source": [
        "\n",
        "# CSCE633 Fall 2022 (Total 100 pts)\n",
        "\n",
        "**Machine Learning**\n",
        "\n",
        "**Homework 4**\n",
        "\n",
        "Instructor: Yoonsuck Choe\n",
        "\n",
        "Nov 4, 2022\n",
        "\n",
        "\n",
        "---"
      ]
    },
    {
      "cell_type": "markdown",
      "metadata": {
        "id": "PTadtehSTEem"
      },
      "source": [
        "**Student name: Du,Yun \n",
        "\n",
        "\n",
        "---"
      ]
    },
    {
      "cell_type": "markdown",
      "metadata": {
        "id": "seH0_JOMTS2c"
      },
      "source": [
        "# Common instructions (Read carefully)"
      ]
    },
    {
      "cell_type": "markdown",
      "metadata": {
        "id": "VRafXus3T2bg"
      },
      "source": [
        "**Submission:**\n",
        "\n",
        "1. After you complete each section, \"Save and pin\" the revision. (**File -> Save and pin revision**). \n",
        "> There will be a 20-point penalty for not including revision history in the submission as instructed below.\n",
        "2. When you're ready to submit, \n",
        "> 1. download the ipynb file (**File -> Download .ipynb**).\n",
        "> 2. take screenshot of revision history, by comparing each successive pinned revisions (there will be several of these: final vs. latest pin, latest pin vs. previous pin, etc.). (**File -> Revision history**, then click on the radio buttons for pinned revisions to compare. Scroll down to the part that shows the major revised part, and take a screenshot. No need to show the entire revision history.)\n",
        "> 3. submit a zip file **lastname-firstname.zip** containing the ipynb file and all revision screenshots.\n",
        "\n",
        "**Using the markup language in the \"text\" boxes:**\n",
        "\n",
        "Note: See https://colab.research.google.com/notebooks/markdown_guide.ipynb#scrollTo=70pYkR9LiOV0 for how to use the markdown when writing your answer in the text boxes.\n",
        "\n",
        "**NEW: Including images/screenshots**\n",
        "\n",
        "When including screenshots directly into the text cell, the markup source can get too long. To avoid this, you can upload your images to good drive, make them publicly viewable, get the share link, get the id string  from the link (for example, 1IDUkDGqQ1xSKOT3Wg8SKgAlKsDIdUQUy), and insert a tag like below:  \n",
        "```\n",
        "<img src=\"https://drive.google.com/uc?export=view&id=1IDUkDGqQ1xSKOT3Wg8SKgAlKsDIdUQUy\"> \n",
        "```"
      ]
    },
    {
      "cell_type": "markdown",
      "metadata": {
        "id": "M2s4WcOkUAWc"
      },
      "source": [
        "# Section I: Dimensionality Reduction"
      ]
    },
    {
      "cell_type": "markdown",
      "metadata": {
        "id": "yEQeQmGMpAc6"
      },
      "source": [
        "**Problem 1 (Written: 10pts):** \n",
        "\n",
        "Consider the data sets below: Data set 1 = Spiral data, Data set 2 = Point cloud data, and Data set 3 = simple data. You can plot the data first. \n",
        "- Plot the first column in the data against the second column\n",
        "``` D1[:,0] , D1[:,1] ```\n",
        "- Make sure you use aspect ratio of 1 when plotting, so that the x- and y-axis have the same scale.\n",
        "```\n",
        "fig=plt.figure()\n",
        "ax=fig.add_subplot(1,1,1)\n",
        "ax.set_aspect(1)\n",
        "plt.plot(....)\n",
        "```\n",
        "- Use \".\" for plotting style:  \n",
        "```plt.plot(...,\".\") ```\n",
        "\n",
        "(1) Which of the three data sets D1, D2, and D3 would be the most appropriate for PCA analysis, in terms of dimensionality reduction (2D to 1D)? Explain why.\n",
        "\n",
        "(2) Which of the three data sets D1, D2, and D3 would be the least appropriate for  PCA analysis, in terms of dimensionality reduction (2D to 1D)? Explain why.\n",
        "\n",
        "**Hint:** \n",
        "- Although the data are not labled into different classes, you may be able to \"see\" two possible groups of points in each data set. When you use  PCA to project all the data points to the PCA space (using the 1st and 2nd principal component vectors), would you be able to distinguish the two groups, just based on the 1st principal component axis? \n",
        "- Also, you can think about the variance in the original data (along the two axes) and the variance in the resulting projection (along the two principal component axes). \n",
        "\n"
      ]
    },
    {
      "cell_type": "markdown",
      "metadata": {
        "id": "njzmqsUMKRzE"
      },
      "source": [
        "**Answer:**\n",
        "\n",
        "Fill out the code cell below for the plot, and enter your answer here:\n",
        "\n",
        "(1) D3.it can be easily seperated among x axis, or it can be described as more flat than D1 and D2.\n",
        "\n",
        "(2) D1. D1 data's shape is more like a circle so it is more difficult to be flatten than D2 and D3.\n"
      ]
    },
    {
      "cell_type": "code",
      "metadata": {
        "id": "KWR8LeoSh2zm",
        "colab": {
          "base_uri": "https://localhost:8080/",
          "height": 779
        },
        "outputId": "d6b1770f-34c4-4543-8bcd-90e449f045e2"
      },
      "source": [
        "from locale import DAY_2\n",
        "import numpy as np\n",
        "import matplotlib.pyplot as plt\n",
        "\n",
        "\n",
        "#--------------------\n",
        "def spiral_1(t):\n",
        "#--------------------\n",
        "  '''\n",
        "  parametric curve of a spiral : clockwise\n",
        "  '''\n",
        "  rand_factor = 1.0\n",
        "\n",
        "  dat   = np.array([(t+1)*np.sin(t+5), (t+1)*np.cos(t+5)])\n",
        "  noise = np.random.rand(2,len(dat[0,:]))*rand_factor\n",
        "  return (dat+noise-0.5)/7.5\n",
        "\n",
        "\n",
        "\"\"\"\n",
        "Data set 1 : D1 = spiral like data\n",
        "\n",
        "- This is a variation on the parametric plot for a circle [cos(t), sin(t)], with a gradually increasing radius. \n",
        "\"\"\"\n",
        "\n",
        "# data set 1 [x, y]\n",
        "\n",
        "t = np.arange(0, 6*np.pi, 0.1)\n",
        "D1 =  np.transpose(spiral_1(t))\n",
        "\n",
        "# Plot it\n",
        "# -- add your plotting code here\n",
        "\n",
        "fig=plt.figure()\n",
        "ax=fig.add_subplot(1,1,1)\n",
        "ax.set_aspect(1)\n",
        "plt.plot(D1[:,0],D1[:,1],\".\")\n",
        "\n",
        "\"\"\"\n",
        "Data set 2 : D2 = point cloud data (normal distribution)\n",
        "\"\"\"\n",
        "\n",
        "x = np.append(np.random.normal(0,1,400),   np.random.normal(5.3,2,400))\n",
        "y = np.append(np.random.normal(0,1,400),   np.random.normal(5.3,2,400))\n",
        "\n",
        "D2 = np.vstack((x,y)).T\n",
        "\n",
        "# Plot it \n",
        "# -- add your plotting code here\n",
        "fig=plt.figure()\n",
        "ax=fig.add_subplot(1,1,1)\n",
        "ax.set_aspect(1)\n",
        "plt.plot(D2[:,0],D2[:,1],\".\")\n",
        "\"\"\"\n",
        "Data set 3: D3 = simple data\n",
        "\"\"\"\n",
        "\n",
        "D3 = np.array([[-1, -1], [-2, -1], [-3, -2], [1, 1], [2, 1], [3, 2]])\n",
        "\n",
        "# Plot it\n",
        "# -- add your plotting code here : use aspect ratio 1 (see below)\n",
        "fig=plt.figure()\n",
        "ax=fig.add_subplot(1,1,1)\n",
        "ax.set_aspect(1)\n",
        "plt.plot(D3[:,0],D3[:,1],\".\")"
      ],
      "execution_count": null,
      "outputs": [
        {
          "output_type": "execute_result",
          "data": {
            "text/plain": [
              "[<matplotlib.lines.Line2D at 0x7f300d5935e0>]"
            ]
          },
          "metadata": {},
          "execution_count": 8
        },
        {
          "output_type": "display_data",
          "data": {
            "text/plain": [
              "<Figure size 432x288 with 1 Axes>"
            ],
            "image/png": "[encoded data removed]"
          },
          "metadata": {
            "needs_background": "light"
          }
        },
        {
          "output_type": "display_data",
          "data": {
            "text/plain": [
              "<Figure size 432x288 with 1 Axes>"
            ],
            "image/png": "[encoded data removed]"
          },
          "metadata": {
            "needs_background": "light"
          }
        },
        {
          "output_type": "display_data",
          "data": {
            "text/plain": [
              "<Figure size 432x288 with 1 Axes>"
            ],
            "image/png": "[encoded data removed]"
          },
          "metadata": {
            "needs_background": "light"
          }
        }
      ]
    },
    {
      "cell_type": "code",
      "source": [
        "# Example plotting code\n",
        "\n",
        "# data \n",
        "x = np.random.normal(0,1,400)\n",
        "y = np.random.normal(0,1,400)\n",
        "\n",
        "# plot\n",
        "fig = plt.figure() \n",
        "ax = fig.add_subplot(111)\n",
        "ax.plot(x,y,'.')  \n",
        "ax.set_aspect('equal') # set aspect ratio to 1.0"
      ],
      "metadata": {
        "colab": {
          "base_uri": "https://localhost:8080/",
          "height": 265
        },
        "id": "XvyMvLUBV1lA",
        "outputId": "00bc7daf-855a-4974-e763-83a04549c5bb"
      },
      "execution_count": null,
      "outputs": [
        {
          "output_type": "display_data",
          "data": {
            "text/plain": [
              "<Figure size 432x288 with 1 Axes>"
            ],
            "image/png": "[encoded data removed]"
          },
          "metadata": {
            "needs_background": "light"
          }
        }
      ]
    },
    {
      "cell_type": "markdown",
      "metadata": {
        "id": "awK0qdPXnZ45"
      },
      "source": [
        "**Problem 2 (Program: 15pt)**\n",
        "\n",
        "Use scikit learn's PCA package to analyze the data set from problem 1. Use the template below.\n",
        "\n",
        "```\n",
        "from sklearn.decomposition import PCA\n",
        "\n",
        "X = .... # data (you can reuse D1, D2, D3 from above (Problem 1)\n",
        "\n",
        "# plot X : X[:,0] against X[:,1]\n",
        "\n",
        "pca = PCA(n_components=2)\n",
        "pca.fit(X)\n",
        "print(pca.singular_values_)\n",
        "\n",
        "Z = pca.fit_transform(X)\n",
        "\n",
        "\n",
        "# plot Z : Z[:,0] against Z[:,1]\n",
        "\n",
        "```\n",
        "\n",
        "For each of the three data sets D1, D2, D3: \n",
        "\n",
        "(1) [1pt] Plot the original data set (X). Fix aspect ratio to 1. \n",
        "\n",
        "(2) [1pt] Plot the projected data set (Z). Fix aspect ratio to 1. \n",
        "\n",
        "(3) [2pt] Compare the variance along the first and second principal component vectors (```pca.singular_values_```) for each data set.\n",
        "\n",
        "- D1: \n",
        "- D2:\n",
        "- D3: \n",
        "\n",
        "(4) [6pt] Comment on how these results relate to your answers in Problem 1. \n",
        "\n",
        "\n",
        "\n"
      ]
    },
    {
      "cell_type": "markdown",
      "metadata": {
        "id": "cLLWW8Z_qnjJ"
      },
      "source": [
        "**Answer:**\n",
        "\n",
        "Fill out the code in the code cell below, and enter your answer here: \n",
        "\n",
        "(1) Just refer to the code below. \n",
        "\n",
        "(2) Just refer to the code below.\n",
        "\n",
        "(3)\n",
        "\n",
        "D1: [15.7189294  14.56579962]\n",
        "\n",
        "D2: [117.94640718  45.36982175]\n",
        "\n",
        "D3: [6.30061232 0.54980396]\n",
        "\n",
        "(4) \n",
        "- For D1 data set, two eigenvalues are more similar, so it means that these two eigenvectors contains quite equal information. So it's difficult to wipe out one of the eigenvector.\n",
        "\n",
        "- For D2 data set, the first eigenvalue is over double than the second eigenvalue. So it's more easier to reduce it's dimension.\n",
        "\n",
        "- For D3 data set, the first eigenvalue is the dominant value of the two eigenvalues. So basically the first eigenvector contains most of the information. So it's the easiest data set to reduce it's dimension.\n",
        "\n",
        "   "
      ]
    },
    {
      "cell_type": "code",
      "metadata": {
        "colab": {
          "base_uri": "https://localhost:8080/",
          "height": 549
        },
        "id": "LUT3C6MCtfN8",
        "outputId": "179be777-065a-477f-b6f9-7e1d5c4cfbe3"
      },
      "source": [
        "\"\"\"\n",
        "Write your PCA code here, and plot the original data and the projected data \n",
        "\"\"\"\n",
        "\n",
        "from sklearn.decomposition import PCA\n",
        "\n",
        "t = np.arange(0, 6*np.pi, 0.1)\n",
        "D1 =  np.transpose(spiral_1(t))\n",
        "X = np.array(D1) \n",
        "# data (you can reuse D1, D2, D3 from above (Problem 1)\n",
        "\n",
        "# IMPLEMENT THIS: plot the input X here : X[:,0] against X[:,1]\n",
        "\n",
        "fig=plt.figure()\n",
        "ax=fig.add_subplot(1,1,1)\n",
        "ax.set_aspect(1)\n",
        "plt.plot(X[:,0],X[:,1],\".\")\n",
        "\n",
        "# 1. set up with input dimension = 2\n",
        "pca = PCA(n_components=2)\n",
        "\n",
        "# 2. analyze data X \n",
        "pca.fit(X)\n",
        "\n",
        "# 3. print eigenvalues \n",
        "print(pca.singular_values_)\n",
        "\n",
        "# 4. project data X to PCA space \n",
        "Z = pca.fit_transform(X)\n",
        "\n",
        "# IMPLEMENT THIS: plot the projected Z here : Z[:,0] against Z[:,1]\n",
        "fig=plt.figure()\n",
        "ax=fig.add_subplot(1,1,1)\n",
        "ax.set_aspect(1)\n",
        "plt.plot(Z[:,0],Z[:,1],\".\")\n"
      ],
      "execution_count": null,
      "outputs": [
        {
          "output_type": "stream",
          "name": "stdout",
          "text": [
            "[15.7189294  14.56579962]\n"
          ]
        },
        {
          "output_type": "execute_result",
          "data": {
            "text/plain": [
              "[<matplotlib.lines.Line2D at 0x7f300331ae20>]"
            ]
          },
          "metadata": {},
          "execution_count": 12
        },
        {
          "output_type": "display_data",
          "data": {
            "text/plain": [
              "<Figure size 432x288 with 1 Axes>"
            ],
            "image/png": "[encoded data removed]"
          },
          "metadata": {
            "needs_background": "light"
          }
        },
        {
          "output_type": "display_data",
          "data": {
            "text/plain": [
              "<Figure size 432x288 with 1 Axes>"
            ],
            "image/png": "[encoded data removed]"
          },
          "metadata": {
            "needs_background": "light"
          }
        }
      ]
    },
    {
      "cell_type": "code",
      "source": [
        "\"\"\"\n",
        "Write your PCA code here, and plot the original data and the projected data \n",
        "\"\"\"\n",
        "\n",
        "from sklearn.decomposition import PCA\n",
        "\n",
        "x = np.append(np.random.normal(0,1,400),   np.random.normal(5.3,2,400))\n",
        "y = np.append(np.random.normal(0,1,400),   np.random.normal(5.3,2,400))\n",
        "\n",
        "D2 = np.vstack((x,y)).T\n",
        "X = np.array(D2) \n",
        "# data (you can reuse D1, D2, D3 from above (Problem 1)\n",
        "\n",
        "# IMPLEMENT THIS: plot the input X here : X[:,0] against X[:,1]\n",
        "\n",
        "fig=plt.figure()\n",
        "ax=fig.add_subplot(1,1,1)\n",
        "ax.set_aspect(1)\n",
        "plt.plot(X[:,0],X[:,1],\".\")\n",
        "\n",
        "# 1. set up with input dimension = 2\n",
        "pca = PCA(n_components=2)\n",
        "\n",
        "# 2. analyze data X \n",
        "pca.fit(X)\n",
        "\n",
        "# 3. print eigenvalues \n",
        "print(pca.singular_values_)\n",
        "\n",
        "# 4. project data X to PCA space \n",
        "Z = pca.fit_transform(X)\n",
        "\n",
        "# IMPLEMENT THIS: plot the projected Z here : Z[:,0] against Z[:,1]\n",
        "fig=plt.figure()\n",
        "ax=fig.add_subplot(1,1,1)\n",
        "ax.set_aspect(1)\n",
        "plt.plot(Z[:,0],Z[:,1],\".\")\n"
      ],
      "metadata": {
        "colab": {
          "base_uri": "https://localhost:8080/",
          "height": 549
        },
        "id": "cjGkOf2F4Tqq",
        "outputId": "a11035ab-3cf0-4aaf-c58c-8af6a700d4d0"
      },
      "execution_count": null,
      "outputs": [
        {
          "output_type": "stream",
          "name": "stdout",
          "text": [
            "[117.94640718  45.36982175]\n"
          ]
        },
        {
          "output_type": "execute_result",
          "data": {
            "text/plain": [
              "[<matplotlib.lines.Line2D at 0x7f3003212cd0>]"
            ]
          },
          "metadata": {},
          "execution_count": 13
        },
        {
          "output_type": "display_data",
          "data": {
            "text/plain": [
              "<Figure size 432x288 with 1 Axes>"
            ],
            "image/png": "[encoded data removed]"
          },
          "metadata": {
            "needs_background": "light"
          }
        },
        {
          "output_type": "display_data",
          "data": {
            "text/plain": [
              "<Figure size 432x288 with 1 Axes>"
            ],
            "image/png": "[encoded data removed]"
          },
          "metadata": {
            "needs_background": "light"
          }
        }
      ]
    },
    {
      "cell_type": "code",
      "source": [
        "\"\"\"\n",
        "Write your PCA code here, and plot the original data and the projected data \n",
        "\"\"\"\n",
        "\n",
        "from sklearn.decomposition import PCA\n",
        "\n",
        "#D3 = np.array([[-1, -1], [-2, -1], [-3, -2], [1, 1], [2, 1], [3, 2]])\n",
        "\n",
        "#X = np.array(D3) \n",
        "X = np.array([[-1, -1], [-2, -1], [-3, -2], [1, 1], [2, 1], [3, 2]]) \n",
        "# data (you can reuse D1, D2, D3 from above (Problem 1)\n",
        "\n",
        "# IMPLEMENT THIS: plot the input X here : X[:,0] against X[:,1]\n",
        "\n",
        "fig=plt.figure()\n",
        "ax=fig.add_subplot(1,1,1)\n",
        "ax.set_aspect(1)\n",
        "plt.plot(X[:,0],X[:,1],\".\")\n",
        "\n",
        "# 1. set up with input dimension = 2\n",
        "pca = PCA(n_components=2)\n",
        "\n",
        "# 2. analyze data X \n",
        "pca.fit(X)\n",
        "\n",
        "# 3. print eigenvalues \n",
        "print(pca.singular_values_)\n",
        "\n",
        "# 4. project data X to PCA space \n",
        "Z = pca.fit_transform(X)\n",
        "\n",
        "# IMPLEMENT THIS: plot the projected Z here : Z[:,0] against Z[:,1]\n",
        "fig=plt.figure()\n",
        "ax=fig.add_subplot(1,1,1)\n",
        "ax.set_aspect(1)\n",
        "plt.plot(Z[:,0],Z[:,1],\".\")"
      ],
      "metadata": {
        "colab": {
          "base_uri": "https://localhost:8080/",
          "height": 360
        },
        "id": "nQHVUcfL4jPx",
        "outputId": "11ad0d1c-d05e-4a40-87ef-5bba734a25aa"
      },
      "execution_count": null,
      "outputs": [
        {
          "output_type": "stream",
          "name": "stdout",
          "text": [
            "[6.30061232 0.54980396]\n"
          ]
        },
        {
          "output_type": "execute_result",
          "data": {
            "text/plain": [
              "[<matplotlib.lines.Line2D at 0x7f30031194c0>]"
            ]
          },
          "metadata": {},
          "execution_count": 34
        },
        {
          "output_type": "display_data",
          "data": {
            "text/plain": [
              "<Figure size 432x288 with 1 Axes>"
            ],
            "image/png": "[encoded data removed]"
          },
          "metadata": {
            "needs_background": "light"
          }
        },
        {
          "output_type": "display_data",
          "data": {
            "text/plain": [
              "<Figure size 432x288 with 1 Axes>"
            ],
            "image/png": "[encoded data removed]"
          },
          "metadata": {
            "needs_background": "light"
          }
        }
      ]
    },
    {
      "cell_type": "markdown",
      "metadata": {
        "id": "k4vN-kIzbuaB"
      },
      "source": [
        "**Problem 3 (Written: 15 pts):**\n",
        "\n",
        "(1) Explain why manifold learning can effectively handle data like the data set D1 in Problem 1 (the spiral data). [5pt]\n",
        "\n",
        "(2) For the spiral data (data set D1), what would be an appropriate $\\epsilon$ value for use in ISOMAP? Give a specific value as your answer (e.g. $\\epsilon = 2.5$), and explain your reasoning. **Hint:** By eyeballing the data, you can see that $\\epsilon$ cannot be less than a certain value (graph will be disconnected), while it cannot be greater than a certain value (points across different parts of the spiral will be connected), in order to recover the manifold structure. Pick a number between these two bounds.  [10pt] \n"
      ]
    },
    {
      "cell_type": "markdown",
      "metadata": {
        "id": "-cNhbGxUh4AZ"
      },
      "source": [
        "**Answer:**\n",
        "\n",
        "(1) D1 has a highly non-linear structure in data so it's suitable for manifold learning method. For D1, it's a spiral structure, so if the \"Isomap\" is used, one can easily tell that the data can be seperated into two subsets deviding from the center.\n",
        "\n",
        "(2) From D1's figure, we want to connect the points in a spiral shape, so the points should. and all other points should be connected at each side. So $\\epsilon$ should be a value roughly in the range $[0.5, 2.5]$. So an appropriate value could be $\\epsilon=1.5$.\n"
      ]
    },
    {
      "cell_type": "markdown",
      "metadata": {
        "id": "7wfL4SFjCmx3"
      },
      "source": [
        "# Section II: Conditional Independence "
      ]
    },
    {
      "cell_type": "markdown",
      "metadata": {
        "id": "pY-hX8jtpknb"
      },
      "source": [
        "**Problem 4 (Written: 10pts)**\n",
        "\n",
        "Consider three binary variables $a, b, c \\in \\{0,1\\}$ having the\n",
        "joint probability distribution given in the table below. Show by direct\n",
        "evaluation that this distribution has the property that $a$ and $b$ are \n",
        "dependent, so that $P(a,b) \\neq P(a)p(b)$, but that they become independent\n",
        "when conditioned on $c$, so that $ P(a,b|c) = P(a|c)p(b|c)$ for both\n",
        "$c=0$ and $c=1$ [adapted from C. M. Bishop, *Pattern Recognition and Machine Learning*, Springer, 2006].\n",
        "\n",
        "> $a$ | $b$ | $c$ | P($a$,$b$,$c$)\n",
        "> --- | --- | --- | ---\n",
        "> 0 | 0 | 0 | 0.375 \n",
        "> 0 | 0 | 1 | <strike>0.005</strike> 0.05 (typo fixed!)\n",
        "> 0 | 1 | 0 | 0.041667 \n",
        "> 0 | 1 | 1 | 0.075\n",
        "> 1 | 0 | 0 | 0.075 \n",
        "> 1 | 0 | 1 | 0.15\n",
        "> 1 | 1 | 0 | 0.008333\n",
        "> 1 | 1 | 1 | 0.225\n"
      ]
    },
    {
      "cell_type": "code",
      "source": [
        "p_a_0 = 0.375 + 0.05 + 0.041667 + 0.075 \n",
        "print(f\"P(a = 0) : {p_a_0}\")\n",
        "\n",
        "p_a_1 = 0.075 + 0.15 + 0.00833\n",
        "print(f\"P(a = 1) : {p_a_1}\")\n",
        "\n",
        "p_b_0 = 0.375 + 0.05 + 0.075 + 0.15 \n",
        "print(f\"P(b = 0) : {p_b_0}\")\n",
        "\n",
        "p_b_1 = 0.041667 + 0.075 + 0.008333 + 0.225 \n",
        "print(f\"P(b = 1) : {p_b_1}\")\n",
        "\n",
        "p_c_0 = 0.375 + 0.041667 + 0.075 + 0.008333\n",
        "print(f\"P(c = 0) : {p_c_0}\")\n",
        "\n",
        "p_c_1 = 0.05 + 0.075 + 0.15 +0.225\n",
        "print(f\"P(c = 1) : {p_c_1}\")\n",
        "\n",
        "mul = p_a_0 * p_b_0\n",
        "print(f\"a = 0 * b = 0: {mul}\")\n",
        "\n",
        "mul = p_a_0 * p_b_1\n",
        "print(f\"a = 0 * b = 1: {mul}\")\n",
        "\n",
        "mul = p_a_1 * p_b_0\n",
        "print(f\"a = 1 * b = 0: {mul}\")\n",
        "\n",
        "mul = p_a_1 * p_b_1\n",
        "print(f\"a = 1 * b = 1: {mul}\")\n",
        "\n",
        "\n",
        "print(0.375 / p_c_0)\n",
        "print(0.05 / p_c_1)\n",
        "print(0.041667 / p_c_0)\n",
        "print(0.075 / p_c_1)\n",
        "print(0.075 / p_c_0)\n",
        "print(0.15 / p_c_1)\n",
        "print(0.008333 / p_c_0)\n",
        "print(0.225 / p_c_1)"
      ],
      "metadata": {
        "colab": {
          "base_uri": "https://localhost:8080/"
        },
        "id": "BrhJoHwLQRtm",
        "outputId": "b9cd22b7-3f30-4e0f-b6db-567714df4177"
      },
      "execution_count": null,
      "outputs": [
        {
          "output_type": "stream",
          "name": "stdout",
          "text": [
            "P(a = 0) : 0.541667\n",
            "P(a = 1) : 0.23332999999999998\n",
            "P(b = 0) : 0.65\n",
            "P(b = 1) : 0.35\n",
            "P(c = 0) : 0.5\n",
            "P(c = 1) : 0.5\n",
            "a = 0 * b = 0: 0.35208355\n",
            "a = 0 * b = 1: 0.18958345\n",
            "a = 1 * b = 0: 0.15166449999999998\n",
            "a = 1 * b = 1: 0.08166549999999999\n",
            "0.75\n",
            "0.1\n",
            "0.083334\n",
            "0.15\n",
            "0.15\n",
            "0.3\n",
            "0.016666\n",
            "0.45\n"
          ]
        }
      ]
    },
    {
      "cell_type": "markdown",
      "metadata": {
        "id": "mHSXXDrciHRj"
      },
      "source": [
        "**Answer:**\n",
        "\n",
        "\n",
        "Tabulate your results in the following format:\n",
        "\n",
        "> $a$ | $b$ | P($a$,$b$) | P($a$)P($b$)\n",
        "> --- | --- | --- | ---\n",
        "> 0 | 0 |0.425    |0.352\n",
        "> 0 | 1 |0.1167   |0.18\n",
        "> 1 | 0 |0.225    |0.15\n",
        "> 1 | 1 |0.233    |0.08167\n",
        "\n",
        "> $a$ | $b$ | $c$ | P($a$,$b$$\\mid$$c$) | P($a|c$)P($b|c$)\n",
        "> --- | --- | --- | --- | ---\n",
        "> 0 | 0 | 0 | 0.75   | 0.75 \n",
        "> 0 | 0 | 1 | 0.1    | 0.1\n",
        "> 0 | 1 | 0 | 0.083    | 0.083\n",
        "> 0 | 1 | 1 | 0.15    | 0.15\n",
        "> 1 | 0 | 0 | 0.15    | 0.15\n",
        "> 1 | 0 | 1 | 0.3    |  0.3\n",
        "> 1 | 1 | 0 | 0.167    | 0.0167\n",
        "> 1 | 1 | 1 | 0.45    | 0.45"
      ]
    },
    {
      "cell_type": "code",
      "source": [],
      "metadata": {
        "id": "Y0YVMRABjQFR"
      },
      "execution_count": null,
      "outputs": []
    },
    {
      "cell_type": "markdown",
      "metadata": {
        "id": "Vqt09dt6Gvz4"
      },
      "source": [
        "**Program 5 (Written: 10pts)**\n",
        "\n",
        "How is the above result related to the concept of conditional independence $P(a|b,c) = P(a|c)$, $a$ is independent from $b$ given $c$? (derive $P(a|b,c) = P(a|c)$ if $ P(a,b|c) = P(a|c)p(b|c)$: **DO NOT** simply plug in the probability values from above."
      ]
    },
    {
      "cell_type": "markdown",
      "metadata": {
        "id": "5HIBxBZnjQXG"
      },
      "source": [
        "**Answer**:\n",
        "\n",
        "Given $P(a,b|c) = P(a|c)P(b|c)$\n",
        "\n",
        "Show $P(a|b,c) = \\frac{P(a,b,c)}{P(b,c)} =   .... continue\\ your\\ derivation\\ here .... = P(a|c)$\n",
        "\n",
        "$$\n",
        "\\begin{align}\n",
        "P(a|b,c) &= \\frac{P(a,b,c)}{P(b,c)} \\\\\n",
        "        &= \\frac{P(a,b|c)\\cdot P(c)}{P(b|c)\\cdot P(c)} \\\\\n",
        "        &= \\frac{P(a|c)\\cdot P(b|c)\\cdot P(c)}{P(b|c)\\cdot P(c)} \\\\\n",
        "        &= P(a|c)\n",
        "\\end{align}\n",
        "$$"
      ]
    },
    {
      "cell_type": "markdown",
      "metadata": {
        "id": "klTShQ_9I7ia"
      },
      "source": [
        "# Section III: Naive Bayes Classifier\n",
        "\n",
        "\n"
      ]
    },
    {
      "cell_type": "markdown",
      "metadata": {
        "id": "-KYkXn-mHqod"
      },
      "source": [
        "\n",
        "Consider the data set below, for spam detection. \n",
        "\n",
        "We will use the Naive Bayes Classifier to learn from this data and predict new sentences. \n",
        "\n",
        "> Sentence | Spam\n",
        "> --- | ---  \n",
        "> congrats you are selected | N \n",
        "> congrats you won lottery | Y\n",
        "> travel for free | Y\n",
        "> good credit | N\n",
        "> selected for credit cards | Y\n",
        "> very good | N\n",
        "> free credit cards | Y\n",
        "> good night | N\n",
        "> lottery | Y \n",
        "> good for you | N \n",
        "\n",
        "In this context, each word can be treated as an attribute, and their values will be 0 or 1 depending on the absence or existence of the word in the sentence. \n",
        "\n",
        "For example, \"congrats\" will be attribute $a_0$, \"you\" will be attribute $a_1$, etc. Use the following mapping for the words to attributes:\n",
        "\n",
        "> word | attribute | dictionary index (see python code below)\n",
        "> --- | --- | ---\n",
        "> congrats | $a_0$ | 0\n",
        "> you | $a_1$ | 1\n",
        "> are | $a_2$ | 2\n",
        "> selected | $a_3$ | 3\n",
        "> won | $a_4$ | 4\n",
        "> lottery | $a_5$ | 5\n",
        "> travel | $a_6$ | 6\n",
        "> for | $a_7$ | 7\n",
        "> free | $a_8$ | 8\n",
        "> credit | $a_9$ | 9\n",
        "> cards | $a_{10}$ | 10\n",
        "> very | $a_{11}$ | 11\n",
        "> good | $a_{12}$ | 12\n",
        "> night | $a_{13}$ | 13\n",
        "\n",
        "```\n",
        "dictionary = np.array([\"congrats\",\"you\",\"are\",\"selected\",\"won\",\"lottery\",\"travel\",\"for\",\"free\",\"credit\",\"cards\",\"very\",\"good\",\"night\"])\n",
        "```\n",
        "\n",
        "So, the sentence \"you won free travel\" would be \n",
        "> $\\small (a_0=0, a_1=1, a_2=0, a_3=0, a_4=1, a_5=0, a_6=1, a_7=0, a_8=1, a_9=0, a_{10}=0, a_{11}=0, a_{12}=0, a_{13}=0)$\n",
        "\n",
        "or simply\n",
        "> $\\small (0,1,0,0,1,0,1,0,1,0,0,0,0,0)$\n",
        "\n",
        "So, the probability that \"you won free travel\" is a spam can be written as:\n",
        "> $\\small P(Spam=Yes| a_0=0, a_1=1, a_2=0, a_3=0, a_4=1, a_5=0, a_6=1, a_7=0, a_8=1, a_9=0, a_{10}=0, a_{11}=0, a_{12}=0, a_{13}=0)$\n",
        "\n",
        "or as\n",
        "\n",
        "> $\\small P(Yes|0,1,0,0,1,0,1,0,1,0,0,0,0,0)$.\n",
        "\n",
        "Note that word ordering does not matter, and multiple occurances of the same word is simply represented as 1. \n"
      ]
    },
    {
      "cell_type": "markdown",
      "metadata": {
        "id": "uPL93V3xWQmd"
      },
      "source": [
        "**Problem 6 (Program: 15pt)**\n",
        "\n",
        "Use the skeleton code in the code cell below to train Naive Bayes on the data set (sentence / spam table in the beginning of Section III). \n",
        "\n",
        "Enter the data in the format shown in the code cell below. ```X``` is the input, and ```y``` is the target values. The first entry in each from the sentence/spam table is already entered in the code cell, along with the skeleton code to train and test. \n",
        "\n",
        "To easily verify that you entered the data correctly, write a function to convert the data vector (each row in the numpy array) to a string, and use this to print out your data in a human readable form. Use the ``dictionary`` array provided in the code cell. \n",
        "\n",
        "```\n",
        "def vec2word(vec):\n",
        "   ...\n",
        "   words = ...\n",
        "   ...\n",
        "   return words\n",
        "```\n",
        "\n",
        "(1) Implement the above and train the Naive Bayes Classifier. Report the accuracy. [5pt]\n",
        "\n",
        "(2) Provide 3 test sentences that are classified as \"Spam\" (output = 1). [5pt]\n",
        "\n",
        "- These cannot be from the provided data set above.\n",
        "- Each sentence must be at least 3 words long.\n",
        "\n",
        "(3) Provide 3 test sentences that are classified as \"Not spam\" (output = 0). [5pt]\n",
        "\n",
        "- These cannot be from the provided data set above.\n",
        "- Each sentence must be at least 3 words long.\n",
        "\n",
        "(4) Do you think this kind of approach can scale to a full-blown spam filter for real-life applications? This is an open ended question. [5pt]\n",
        "\n",
        "   "
      ]
    },
    {
      "cell_type": "markdown",
      "metadata": {
        "id": "80VGZpe3XzEQ"
      },
      "source": [
        "**Answer:**\n",
        "\n",
        "(1) Modify the code below and report the results here. \n",
        "\n",
        "(2)\n",
        "\n",
        "you won lottery \\\\\n",
        "you won credit cards \\\\\n",
        "lottery for free \\\\\n",
        "\n",
        "(3)\n",
        "\n",
        "congrats you very good \\\\\n",
        "you are good \\\\\n",
        "you are free \\\\\n",
        "\n",
        "(4) No. First of all, the training set can't include every scenario that could arise, thus some of them might get the wrong answer. Some word combinations may have completely distinct meanings."
      ]
    },
    {
      "cell_type": "code",
      "metadata": {
        "colab": {
          "base_uri": "https://localhost:8080/"
        },
        "outputId": "91d3b91d-0e9f-414c-982b-57a74e9db077",
        "id": "k0xiClK93xG3"
      },
      "source": [
        "\n",
        "\n",
        "import numpy as np\n",
        "from sklearn.naive_bayes import MultinomialNB\n",
        "\n",
        "#-------\n",
        "# dictionary, to look up words from the data vector -- case sensitive! \n",
        "#-------\n",
        "dictionary = np.array([\"congrats\",\"you\",\"are\",\"selected\",\"won\",\"lottery\",\"travel\",\"for\",\"free\",\"credit\",\"cards\",\"very\",\"good\",\"night\"])\n",
        "\n",
        "#-------\n",
        "# vec2word: convert data vector to words\n",
        "#-------\n",
        "def vec2word(vec):\n",
        "  \"\"\"\n",
        "  arguments: vec = np.array([0,1,...])\n",
        "  returns: string of sentence corresponsing to the vector (word may not be ordered properly)\n",
        "  \"\"\"\n",
        "  (r,c) = vec.shape\n",
        "  words = np.empty((r,c), dtype='U25')\n",
        "  print(words.shape)\n",
        "  for i in range(r):\n",
        "    for k in range(c):\n",
        "      if vec[i,k] == 1:\n",
        "        words[i,k] = dictionary[k]\n",
        "  return words\n",
        "\n",
        "  # return ...\n",
        "\n",
        "\n",
        "#--------------------------------\n",
        "# spam data : enter your data here \n",
        "#--------------------------------\n",
        "X = np.array([   \n",
        " [1,1,1,1,0,0,0,0,0,0,0,0,0,0],   # congrats you are selected\n",
        " [1,1,0,1,1,1,0,0,0,0,0,0,0,0],   # congrats you won lottery:spam\n",
        " [0,0,0,0,0,0,1,1,1,0,0,0,0,0],   # travel for free :spam\n",
        " [0,0,0,0,0,0,0,0,0,1,0,0,1,0],   # good credit \n",
        " [0,0,0,1,0,0,0,1,0,1,1,0,0,0],   # selected for credit cards\t:spam\n",
        " [0,0,0,0,0,0,0,0,0,0,0,1,1,0],   # very good \n",
        " [0,0,0,0,0,0,0,0,1,1,1,0,0,0],   # free credit cards: spam\n",
        " [0,0,0,0,0,0,0,0,0,0,0,0,1,1],   # good night \n",
        " [0,0,0,0,0,1,0,0,0,0,0,0,0,0],   # lottery :spam\n",
        " [0,1,0,0,0,0,0,1,0,0,0,0,1,0],   # good for you \n",
        "])\n",
        "\n",
        "\n",
        "y = np.array([0, 1, 1, 0, 1, 0, 1, 0, 1, 0 ])\n",
        "\n",
        "words = vec2word(X)\n",
        "print(words)\n",
        "\n",
        "clf = MultinomialNB()\n",
        "clf.fit(X, y)\n",
        "\n",
        "print(\"Score (accuracy: 1.0 = 100%)= \",end=\"\")\n",
        "print(clf.score(X,y))\n",
        "\n",
        "#print(\"Spam test: you won lottery: answer=\",end=\"\")\n",
        "#test = np.array([[0,1,0,0,1,1,0,0,0,0,0,0,0,0],\n",
        "#             [0,1,0,0,1,0,0,0,0,0,0,0,0,0],\n",
        "#             [0,0,0,0,0,1,0,1,1,0,0,0,0,0],\n",
        "#             [1,1,0,0,0,0,0,0,0,0,0,1,1,0],\n",
        "#             [0,1,1,0,0,0,0,0,0,0,0,0,1,0],\n",
        "#             [0,1,1,0,0,0,0,0,1,0,0,0,0,0]\n",
        "#                 ]) # note: np.array([[ ... ]]), not np.array([ ... ]) \n",
        "\n",
        "\n",
        "# test your vec2word() function here, with the test data. \n",
        "#print(clf.predict(test))\n",
        "#print(clf.predict_proba(test))  # [1. 0.] correspond to NoSpam and Spam probability, respectively.\n",
        "#print(vec2word(test))\n",
        "\n",
        "#print(\"\")\n",
        "#print(\" Not Spam test: you are very free: answer=\",end=\"\")\n",
        "#test = np.array([[0,1,1,0,0,0,0,0,1,0,0,1,0,0]]) # note: np.array([[ ... ]]), not np.array([ ... ]) \n",
        "# test your vec2word() function here, with the test data. \n",
        "#print(clf.predict(test))\n",
        "#print(clf.predict_proba(test))  # [1. 0.] correspond to NoSpam and Spam probability, respectively.\n"
      ],
      "execution_count": null,
      "outputs": [
        {
          "output_type": "stream",
          "name": "stdout",
          "text": [
            "(10, 14)\n",
            "[['congrats' 'you' 'are' 'selected' '' '' '' '' '' '' '' '' '' '']\n",
            " ['congrats' 'you' '' 'selected' 'won' 'lottery' '' '' '' '' '' '' '' '']\n",
            " ['' '' '' '' '' '' 'travel' 'for' 'free' '' '' '' '' '']\n",
            " ['' '' '' '' '' '' '' '' '' 'credit' '' '' 'good' '']\n",
            " ['' '' '' 'selected' '' '' '' 'for' '' 'credit' 'cards' '' '' '']\n",
            " ['' '' '' '' '' '' '' '' '' '' '' 'very' 'good' '']\n",
            " ['' '' '' '' '' '' '' '' 'free' 'credit' 'cards' '' '' '']\n",
            " ['' '' '' '' '' '' '' '' '' '' '' '' 'good' 'night']\n",
            " ['' '' '' '' '' 'lottery' '' '' '' '' '' '' '' '']\n",
            " ['' 'you' '' '' '' '' '' 'for' '' '' '' '' 'good' '']]\n",
            "Score (accuracy: 1.0 = 100%)= 1.0\n"
          ]
        }
      ]
    },
    {
      "cell_type": "code",
      "source": [
        "print(\"Spam test, answer=\",end=\"\")\n",
        "test = np.array([[0,1,0,0,1,1,0,0,0,0,0,0,0,0],\n",
        "             [0,1,0,0,1,0,0,0,0,1,1,0,0,0],\n",
        "             [0,0,0,0,0,1,0,1,1,0,0,0,0,0],\n",
        "                 ]) # note: np.array([[ ... ]]), not np.array([ ... ]) \n",
        "\n",
        "\n",
        "# test your vec2word() function here, with the test data. \n",
        "print(clf.predict(test))\n",
        "print(clf.predict_proba(test))  # [1. 0.] correspond to NoSpam and Spam probability, respectively.\n",
        "print(vec2word(test))"
      ],
      "metadata": {
        "colab": {
          "base_uri": "https://localhost:8080/"
        },
        "id": "5dloylQK0LGr",
        "outputId": "c741263c-e9fe-4460-9631-3244a46acb8f"
      },
      "execution_count": null,
      "outputs": [
        {
          "output_type": "stream",
          "name": "stdout",
          "text": [
            "Spam test, answer=[1 1 1]\n",
            "[[0.25536261 0.74463739]\n",
            " [0.20256857 0.79743143]\n",
            " [0.09223816 0.90776184]]\n",
            "(3, 14)\n",
            "[['' 'you' '' '' 'won' 'lottery' '' '' '' '' '' '' '' '']\n",
            " ['' 'you' '' '' 'won' '' '' '' '' 'credit' 'cards' '' '' '']\n",
            " ['' '' '' '' '' 'lottery' '' 'for' 'free' '' '' '' '' '']]\n"
          ]
        }
      ]
    },
    {
      "cell_type": "code",
      "source": [
        "print(\"Not Spam test, answer=\",end=\"\")\n",
        "test = np.array([\n",
        "             [1,1,0,0,0,0,0,0,0,0,0,1,1,0],\n",
        "             [0,1,1,0,0,0,0,0,0,0,0,0,1,0],\n",
        "             [0,1,1,0,0,0,0,0,1,0,0,0,0,0]\n",
        "                 ]) # note: np.array([[ ... ]]), not np.array([ ... ]) \n",
        "\n",
        "\n",
        "# test your vec2word() function here, with the test data. \n",
        "print(clf.predict(test))\n",
        "print(clf.predict_proba(test))  # [1. 0.] correspond to NoSpam and Spam probability, respectively.\n",
        "print(vec2word(test))"
      ],
      "metadata": {
        "colab": {
          "base_uri": "https://localhost:8080/"
        },
        "id": "D2zdzc4q0b3G",
        "outputId": "85dab01c-2d98-4185-ec12-80c0a5ce3a0f"
      },
      "execution_count": null,
      "outputs": [
        {
          "output_type": "stream",
          "name": "stdout",
          "text": [
            "Not Spam test, answer=[0 0 0]\n",
            "[[0.95809301 0.04190699]\n",
            " [0.95365249 0.04634751]\n",
            " [0.578369   0.421631  ]]\n",
            "(3, 14)\n",
            "[['congrats' 'you' '' '' '' '' '' '' '' '' '' 'very' 'good' '']\n",
            " ['' 'you' 'are' '' '' '' '' '' '' '' '' '' 'good' '']\n",
            " ['' 'you' 'are' '' '' '' '' '' 'free' '' '' '' '' '']]\n"
          ]
        }
      ]
    },
    {
      "cell_type": "markdown",
      "metadata": {
        "id": "TFGRjOOnhK0S"
      },
      "source": [
        "# Section IV: Local Methods"
      ]
    },
    {
      "cell_type": "markdown",
      "metadata": {
        "id": "vEZu1pVl_y0H"
      },
      "source": [
        "**Problem 7 (Written: 15 pts)**\n",
        "\n",
        "The SOM, given an input vector $\\vec{x}$ and the best matching unit index $i(\\vec{x})$, the learning rule for the reference vector for unit $j$ is:\n",
        "$$ \\vec{w}_j \\leftarrow \\vec{w}_j + \\eta h(j,i(\\vec{x}))(\\vec{x} - \\vec{w}_j) $$\n",
        "\n",
        "- The learning rate is fixed $\\eta = 1$.\n",
        "\n",
        "- Let $h(j,i(\\vec{x})) = 1$, for the best matching unit $j=i(\\vec{x})$, $h(j,i(\\vec{x})) = \\frac{2}{3}$ for its immediate neighbor ($j = i(\\vec{x})\\pm1$) and $h(j,i(\\vec{x})) = \\frac{1}{3}$ for its second-order neighbor ($j = i(\\vec{x})\\pm2$). For all the rest, $h(j,i(\\vec{x})) =0$.\n",
        "\n",
        "(1) Consider a 1-D SOM with 7 units with the following weight vectors.\n",
        "Plot the vectors and connect them according to the order given below ($\\vec{w}_1$ connected to $\\vec{w}_2$, etc.).\n",
        ">  $\\vec{w}$ | $w_1$ | $w_2$\n",
        "> --- | --- | ---\n",
        "> $\\vec{w}_1$ | 2 | 0\n",
        "> $\\vec{w}_2$ | 6 | 6\n",
        "> $\\vec{w}_3$ | 1 | 4\n",
        "> $\\vec{w}_4$ | 3 | 6\n",
        "> $\\vec{w}_5$ | 1 | 1\n",
        "> $\\vec{w}_6$ | 6 | 2\n",
        "> $\\vec{w}_7$ | 5 | 4\n",
        "\n",
        "(2) Given an input vector $\\vec{x} = (2,6)$, plot how the weight vectors change after one iteration of training. Plot in the same graph as (1) above."
      ]
    },
    {
      "cell_type": "markdown",
      "metadata": {
        "id": "M5WrZj2wgV-Q"
      },
      "source": [
        "**Answer:**\n",
        "\n",
        "(1) Show the plot\n",
        "\n",
        "(2) Show the plot \n",
        "\n",
        "You may use a code cell to plot the above.\n"
      ]
    },
    {
      "cell_type": "code",
      "source": [
        "import numpy as np\n",
        "import matplotlib.pyplot as plt\n",
        "\n",
        "vector_w = np.array([[2,0],[6,6],[1,4],[3,6],[1,1],[6,2],[5,4]])\n",
        "vector_w_1 = vector_w.copy()\n",
        "nums_len = 7\n",
        "x = np.array([2,6])\n",
        "\n",
        "def plot_weight(vec,vec1,x):\n",
        "  fig = plt.figure()\n",
        "  plt.plot(*zip(*vec), '-o',label='origin')\n",
        "  for i in range(nums_len):\n",
        "    plt.annotate('W %d'%(i+1),xy=(vec[i,0],vec[i,1]),arrowprops=dict(arrowstyle='->'),xytext=(vec[i,0]-0.7,vec[i,1]+0.7))\n",
        "\n",
        "  plt.plot(*zip(*vec1), '-o',label='update')\n",
        "  for i in range(nums_len):\n",
        "    plt.annotate('W %d'%(i+1),xy=(vec1[i,0],vec1[i,1]),arrowprops=dict(arrowstyle='->'),xytext=(vec1[i,0]-0.7,vec1[i,1]+0.7))\n",
        "\n",
        "  plt.plot(2,6,'o',label='X',color='red')\n",
        "  plt.annotate('X',xy=(x[0],x[1]),arrowprops=dict(arrowstyle='->'),xytext=(x[0]-1,x[1]-1))\n",
        "  plt.legend()\n",
        "  plt.show()\n",
        "\n",
        "distance = np.zeros(nums_len,dtype=float)\n",
        "h = np.zeros(nums_len,dtype=float)\n",
        "for i in range(nums_len):\n",
        "  distance[i] = np.linalg.norm(x-vector_w[i,:])**2\n",
        "position = np.argmin(distance)\n",
        "print(distance)\n",
        "\n",
        "for i in range(nums_len):\n",
        "  if np.abs(i-position) == 2:\n",
        "    h[i] = 1/3\n",
        "  elif np.abs(i-position) == 1:\n",
        "    h[i] = 2/3\n",
        "  elif i == position:\n",
        "    h[i] = 1\n",
        "  \n",
        "  vector_w_1[i] = vector_w_1[i] + h[i]*(x-vector_w_1[i])\n",
        "\n",
        "plot_weight(vector_w,vector_w_1,x)"
      ],
      "metadata": {
        "colab": {
          "base_uri": "https://localhost:8080/",
          "height": 304
        },
        "id": "Od6TheUE6wqJ",
        "outputId": "3a75b493-c345-4975-ef0c-6f22a3c16576"
      },
      "execution_count": null,
      "outputs": [
        {
          "output_type": "stream",
          "name": "stdout",
          "text": [
            "[36. 16.  5.  1. 26. 32. 13.]\n"
          ]
        },
        {
          "output_type": "display_data",
          "data": {
            "text/plain": [
              "<Figure size 432x288 with 1 Axes>"
            ],
            "image/png": "[encoded data removed]"
          },
          "metadata": {
            "needs_background": "light"
          }
        }
      ]
    },
    {
      "cell_type": "markdown",
      "metadata": {
        "id": "yw8DSNU7k7Uj"
      },
      "source": [
        "**Problem 8 (Written: 10pts)**\n",
        "\n",
        "(1) In radial basis function networks, among (a) the RBF units, (b) output units, and (c) RBF-to-output connections, which part is associated the most with  \"local\" in \"local learning\"? Explain why. [5pt]\n",
        "\n",
        "(2) In radial basis function networks, among (a) parameters of the RBF units (center and variance) and (b) RBF-to-output connection weights, which one can be learned in one-shot, without many iterations? Explain why. [5pt] "
      ]
    },
    {
      "cell_type": "markdown",
      "source": [
        "(1) The RBF units $p_h^t=e^{-\\frac{||x^t-m_h||^2}{2s_h^2}}$ is associated the most with \"local\" in \"local learning\". This function is a kind of locally-tuned units which is a Gaussian shape curve and has larger value for nearby area and small value for far-away area. So this function reflects the \"local\".\n",
        "\n",
        "(2) RBF-to-output connection weights can be learned in one-shot. This connections can be written as a linear algebra. \"p\" to output weights \"w\" can be calculated in one shot using pseudo inverse.\n",
        "$$\n",
        "\\begin{bmatrix}\n",
        "p11 & p12 & \\cdots & p1H \\\\\n",
        "p21 & p22 & \\cdots & p2H \\\\\n",
        "\\vdots & \\vdots & \\vdots & \\vdots \\\\\n",
        "pn1 & pn2 & \\cdots & pnH \\\\\n",
        "\\end{bmatrix}\n",
        "\\cdot\n",
        "\\begin{bmatrix}\n",
        "w1 \\\\\n",
        "w2 \\\\\n",
        "\\vdots \\\\\n",
        "wH\n",
        "\\end{bmatrix}\n",
        "=\n",
        "\\begin{bmatrix}\n",
        "y1 \\\\\n",
        "y2 \\\\\n",
        "\\vdots \\\\\n",
        "yn\n",
        "\\end{bmatrix}\n",
        "$$"
      ],
      "metadata": {
        "id": "ytokkz-5_ecf"
      }
    }
  ]
}